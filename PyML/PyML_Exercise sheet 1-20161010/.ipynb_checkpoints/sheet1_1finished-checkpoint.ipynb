{
 "cells": [
  {
   "cell_type": "markdown",
   "metadata": {},
   "source": [
    "# Exercise Sheet 1: Python Basics\n",
    "\n",
    "This first  exercise sheet tests the basic functionalities of the Python programming language in the context of a simple prediction task. We consider the problem of predicting health risk of subjects from personal data and habits. We first use for this task a decision tree\n",
    "\n",
    "![](tree.png)\n",
    "\n",
    "adapted from the webpage http://www.refactorthis.net/post/2013/04/10/Machine-Learning-tutorial-How-to-create-a-decision-tree-in-RapidMiner-using-the-Titanic-passenger-data-set.aspx. For this exercise sheet, you are required to use only pure Python, and to not import any module, including numpy. In exercise sheet 2, the nearest neighbor part of this exercise sheet will be revisited with numpy."
   ]
  },
  {
   "cell_type": "markdown",
   "metadata": {},
   "source": [
    "## Classifying a single instance (15 P)\n",
    "\n",
    "* Create a function that takes as input a tuple containing values for attributes (smoker,age,diet), and computes the output of the decision tree.\n",
    "* Test your function on the tuple `('yes',31,'good')`,"
   ]
  },
  {
   "cell_type": "code",
   "execution_count": 1,
   "metadata": {
    "collapsed": false
   },
   "outputs": [
    {
     "data": {
      "text/plain": [
       "'more'"
      ]
     },
     "execution_count": 1,
     "metadata": {},
     "output_type": "execute_result"
    }
   ],
   "source": [
    "### Replace by your own code\n",
    "def funck(a):\n",
    "    if a[0] == 'yes':\n",
    "        if a[1] < 29.5:\n",
    "            return 'less'\n",
    "        else:\n",
    "            return 'more'\n",
    "    else:\n",
    "        if a[2] == 'good':\n",
    "            return 'less'\n",
    "        else:\n",
    "            return 'more'\n",
    "###\n",
    "funck(('yes',31,'good'))"
   ]
  },
  {
   "cell_type": "markdown",
   "metadata": {},
   "source": [
    "## Reading a dataset from a text file (10 P)\n",
    "\n",
    "The file `health-test.txt` contains several fictious records of personal data and habits.\n",
    "\n",
    "* Read the file automatically using the methods introduced during the lecture.\n",
    "* Represent the dataset as a list of tuples."
   ]
  },
  {
   "cell_type": "code",
   "execution_count": 2,
   "metadata": {
    "collapsed": false,
    "scrolled": true
   },
   "outputs": [
    {
     "name": "stdout",
     "output_type": "stream",
     "text": [
      "[('yes', 21, 'poor'), ('no', 50, 'good'), ('no', 23, 'good'), ('yes', 45, 'poor'), ('yes', 51, 'good'), ('no', 60, 'good'), ('no', 15, 'poor'), ('no', 18, 'good')]\n"
     ]
    }
   ],
   "source": [
    "### Replace by your own code\n",
    "f = open('health-test.txt', 'r')\n",
    "###\n",
    "fileprintout = f.read()\n",
    "nonewlines = fileprintout.split('\\n')\n",
    "\n",
    "# remove last element in list\n",
    "del nonewlines[-1]\n",
    "\n",
    "### create an empty list for tuples\n",
    "tuple_list = []\n",
    "\n",
    "### for each entry create a tuple\n",
    "### and add it to the list\n",
    "for a in nonewlines:\n",
    "    b = a.split(',')\n",
    "    tup = (b[0], int(b[1]), b[2])  \n",
    "    tuple_list.append(tup)\n",
    "    \n",
    "print(tuple_list)"
   ]
  },
  {
   "cell_type": "markdown",
   "metadata": {},
   "source": [
    "## Applying the decision tree to the dataset (15 P)\n",
    "\n",
    "* Apply the decision tree to all points in the dataset, and compute the percentage of them that are classified as \"more risk\"."
   ]
  },
  {
   "cell_type": "code",
   "execution_count": 3,
   "metadata": {
    "collapsed": false
   },
   "outputs": [
    {
     "name": "stdout",
     "output_type": "stream",
     "text": [
      "0.375\n"
     ]
    }
   ],
   "source": [
    "### Replace by your own code\n",
    "count = 0\n",
    "\n",
    "for e in tuple_list:\n",
    "    if funck(e) == 'more':\n",
    "        count += 1\n",
    "\n",
    "print(float(count)/len(tuple_list))\n",
    "    \n",
    "###"
   ]
  },
  {
   "cell_type": "markdown",
   "metadata": {},
   "source": [
    "## Learning from examples (10 P)\n",
    "\n",
    "Suppose that instead of relying on a fixed decision tree, we would like to use a data-driven approach where data points are classified based on a set of training observations manually labeled by experts. Such labeled dataset is available in the file `health-train.txt`. The first three columns have the same meaning than for `health-test.txt`, and the last column corresponds to the labels.\n",
    "\n",
    "* Write a procedure that reads this file and converts it into a list of pairs. The first element of each pair is a triplet of attributes, and the second element is the label."
   ]
  },
  {
   "cell_type": "code",
   "execution_count": 4,
   "metadata": {
    "collapsed": false
   },
   "outputs": [
    {
     "name": "stdout",
     "output_type": "stream",
     "text": [
      "[(('yes', 54, 'good'), 'less'), (('no', 55, 'good'), 'less'), (('no', 26, 'good'), 'less'), (('yes', 40, 'good'), 'more'), (('yes', 25, 'poor'), 'less'), (('no', 13, 'poor'), 'more'), (('no', 15, 'good'), 'less'), (('no', 50, 'poor'), 'more'), (('yes', 33, 'good'), 'more'), (('no', 35, 'good'), 'less'), (('no', 41, 'good'), 'less'), (('yes', 30, 'poor'), 'more'), (('no', 39, 'poor'), 'more'), (('no', 20, 'good'), 'less'), (('yes', 18, 'poor'), 'less'), (('yes', 55, 'good'), 'more')]\n"
     ]
    }
   ],
   "source": [
    "### Replace by your own code\n",
    "fobject = open('health-train.txt', 'r')\n",
    "nnlns = fobject.read().split('\\n')\n",
    "\n",
    "del nnlns[-1]\n",
    "\n",
    "final_list = []\n",
    "\n",
    "for e in nnlns:\n",
    "    b = e.split(',')\n",
    "    tup = (b[0], int(b[1]), b[2])\n",
    "    tuptup = (tup, b[3])\n",
    "    final_list.append(tuptup)\n",
    "\n",
    "print(final_list)\n",
    "\n",
    "    \n",
    "\n",
    "###"
   ]
  },
  {
   "cell_type": "markdown",
   "metadata": {},
   "source": [
    "## Nearest neighbor classifier (25 P)\n",
    "\n",
    "We consider the nearest neighbor algorithm that classifies test points following the label of the nearest neighbor in the training data. For this, we need to define a distance function between data points. We define it to be\n",
    "\n",
    "`d(a,b) = (a[0]!=b[0])+((a[1]-b[1])/50.0)**2+(a[2]!=b[2])`\n",
    "\n",
    "where `a` and `b` are two tuples corrsponding to the attributes of two data points.\n",
    "\n",
    "* Write a function that retrieves for a test point the nearest neighbor in the training set, and classifies the test point accordingly.\n",
    "* Test your function on the tuple `('yes',31,'good')`"
   ]
  },
  {
   "cell_type": "code",
   "execution_count": 5,
   "metadata": {
    "collapsed": false
   },
   "outputs": [
    {
     "data": {
      "text/plain": [
       "(('yes', 31, 'good'), 'more')"
      ]
     },
     "execution_count": 5,
     "metadata": {},
     "output_type": "execute_result"
    }
   ],
   "source": [
    "### Replace by your own code\n",
    "\n",
    "\n",
    "def retrieve_nearest_neighbor(a):\n",
    "    # set the initial minimum to infinity\n",
    "    current_min = float(\"inf\")\n",
    "    closest_neighbor = None\n",
    "    closest_neighbor_label = None\n",
    "    \n",
    "    for e in final_list:\n",
    "        b = e[0]\n",
    "        label = e[1]\n",
    "        # calculate distance between test point and current point\n",
    "        d = (a[0]!=b[0])+((int(a[1])-int(b[1]))/50.0)**2+(a[2]!=b[2])\n",
    "        \n",
    "        # if the distance is less than the current minimum, update the closest neighbor\n",
    "        if d < current_min:\n",
    "            current_min = d\n",
    "            closest_neighbor = b\n",
    "            closest_neighbor_label = label\n",
    "            \n",
    "    return (a, closest_neighbor_label)\n",
    "            \n",
    "        \n",
    "retrieve_nearest_neighbor(('yes',31,'good'))\n",
    "    \n",
    "###"
   ]
  },
  {
   "cell_type": "markdown",
   "metadata": {},
   "source": [
    "* Apply both the decision tree and nearest neighbor classifiers on the test set, and find the data point(s) for which the two classifiers disagree, and the fraction of the time it happens."
   ]
  },
  {
   "cell_type": "code",
   "execution_count": 6,
   "metadata": {
    "collapsed": false
   },
   "outputs": [
    {
     "name": "stdout",
     "output_type": "stream",
     "text": [
      "[('yes', 51, 'good')] 0.125\n"
     ]
    }
   ],
   "source": [
    "### Replace by your own code\n",
    "\n",
    "# a list for holding points of disagreement\n",
    "disagree_points = []\n",
    "\n",
    "test_points = tuple_list\n",
    "train_points = final_list\n",
    "\n",
    "# iterate over the test points and apply both decision tree and nearest neighbor\n",
    "for e in test_points:\n",
    "    decision_tree_result = funck(e)\n",
    "    #print(funck(e))\n",
    "    nearest_neighbor_result = retrieve_nearest_neighbor(e)\n",
    "    #print(nearest_neighbor_result[1])\n",
    "    #print(\"-----------------------------\")\n",
    "    \n",
    "    if decision_tree_result != nearest_neighbor_result[1]:\n",
    "        disagree_points.append(e)\n",
    "        \n",
    "print(disagree_points, (float(len(disagree_points))/len(test_points)))\n",
    "        \n",
    "\n",
    "###"
   ]
  },
  {
   "cell_type": "markdown",
   "metadata": {},
   "source": [
    "One problem of simple nearest neighbors is that one needs to compare the point to predict to all data points in the training set. This can be slow for datasets of thousands of points or more. Alternatively, some classifiers train a model first, and then use it to classify the data.\n",
    "\n",
    "## Nearest mean classifier (25 P)\n",
    "\n",
    "We consider one such trainable model, which operates in two steps:\n",
    "\n",
    "(1) Compute the average point for each class, (2) classify new points to be of the class whose average point is nearest to the point to predict.\n",
    "\n",
    "For this classifier, we convert the attributes smoker and diet to real values (for smoker: yes=1.0 and no=0.0, and for diet: good=0.0 and poor=1.0), and use the modified distance function:\n",
    "\n",
    "`d(a,b) = (a[0]-b[0])**2+((a[1]-b[1])/50.0)**2+(a[2]-b[2])**2`\n",
    "\n",
    "We adopt an object-oriented approach for building this classifier.\n",
    "\n",
    "* Implement the methods `train` and `predict` of the class `NearestMeanClassifier`."
   ]
  },
  {
   "cell_type": "code",
   "execution_count": 7,
   "metadata": {
    "collapsed": false
   },
   "outputs": [],
   "source": [
    "class NearestMeanClassifier:\n",
    "    \n",
    "   \n",
    "    \n",
    "    # Training method that takes as input a dataset\n",
    "    # and produces two internal vectors corresponding\n",
    "    # to the mean of each class.\n",
    "    def train(self,dataset):\n",
    "        # train the data\n",
    "        \n",
    "        # create dictionary of trained model\n",
    "        trained_model = {'less': (0.0, 0.0, 0.0), 'more': (0.0, 0.0, 0.0)}\n",
    "        \n",
    "        # vars for holding class attribute sums\n",
    "        less_smoker_sum = 0.0\n",
    "        less_age_sum = 0.0\n",
    "        less_diet_sum = 0.0\n",
    "        \n",
    "        more_smoker_sum = 0.0\n",
    "        more_age_sum = 0.0\n",
    "        more_diet_sum = 0.0\n",
    "        \n",
    "        less = 0\n",
    "        more = 0\n",
    "        \n",
    "        # iterate over training data and compute mean attributes for classes\n",
    "        for e in dataset:\n",
    "            if e[1] == 'less':\n",
    "                less_smoker_sum += smoker_real(e[0][0])\n",
    "                less_age_sum += int(e[0][1])\n",
    "                less_diet_sum += diet_real(e[0][2])\n",
    "                less += 1\n",
    "            else:\n",
    "                more_smoker_sum += smoker_real(e[0][0])\n",
    "                more_age_sum += int(e[0][1])\n",
    "                more_diet_sum += diet_real(e[0][2])\n",
    "                more += 1\n",
    "                \n",
    "        #print(less_smoker_sum, less_age_sum, less_diet_sum)\n",
    "        #print(more_smoker_sum, more_age_sum, more_diet_sum)\n",
    "            \n",
    "        # calculate the attribute means\n",
    "        \n",
    "        less_smoker_mean = less_smoker_sum/less\n",
    "        less_age_mean = less_age_sum/less\n",
    "        less_diet_mean = less_diet_sum/less\n",
    "        \n",
    "        more_smoker_mean = more_smoker_sum/more\n",
    "        more_age_mean = more_age_sum/more\n",
    "        more_diet_mean = more_diet_sum/more\n",
    "        \n",
    "        trained_model['less'] = (round(less_smoker_mean,2), round(less_age_mean,2), round(less_diet_mean,2))\n",
    "        trained_model['more'] = (round(more_smoker_mean,2), round(more_age_mean,2), round(more_diet_mean,2))\n",
    "        \n",
    "        self.model = trained_model\n",
    "        print(trained_model)\n",
    "        ###\n",
    "    \n",
    "    # Prediction method that takes as input a new data\n",
    "    # point and predicts it to belong to the class with\n",
    "    # nearest mean.\n",
    "    def predict(self,x):\n",
    "        \n",
    "        # convert values of the data point to reals\n",
    "        realdp = (smoker_real(x[0]), x[1], diet_real(x[2]))\n",
    "        #print(realdp)\n",
    "        \n",
    "        less_mean = self.model['less']\n",
    "        more_mean = self.model['more']\n",
    "        \n",
    "        #calculates distance between data point and class means\n",
    "        d_to_less = (realdp[0]-less_mean[0])**2+((realdp[1]-less_mean[1])/50.0)**2+(realdp[2]-less_mean[2])**2\n",
    "        d_to_more = (realdp[0]-more_mean[0])**2+((realdp[1]-more_mean[1])/50.0)**2+(realdp[2]-more_mean[2])**2\n",
    "        \n",
    "        #print(d_to_less)\n",
    "        #print(d_to_more)\n",
    "        \n",
    "        if d_to_less < d_to_more:\n",
    "            return 'less'\n",
    "        else:\n",
    "            return 'more'\n",
    "        ###\n",
    "        \n",
    "def smoker_real(smoker):\n",
    "    if(smoker == 'yes'):\n",
    "        return 1.0\n",
    "    else:\n",
    "        return 0.0\n",
    "        \n",
    "        \n",
    "def diet_real(diet):\n",
    "    if(diet == 'good'):\n",
    "        return 0.0\n",
    "    else:\n",
    "        return 1.0"
   ]
  },
  {
   "cell_type": "markdown",
   "metadata": {},
   "source": [
    "* Build an object of class `NearestMeanClassifier`, train it on the training data, and print the mean vector for each class."
   ]
  },
  {
   "cell_type": "code",
   "execution_count": 8,
   "metadata": {
    "collapsed": false
   },
   "outputs": [
    {
     "name": "stdout",
     "output_type": "stream",
     "text": [
      "{'less': (0.33, 32.11, 0.22), 'more': (0.57, 37.14, 0.57)}\n"
     ]
    }
   ],
   "source": [
    "### Replace by your own code\n",
    "nmc = NearestMeanClassifier()\n",
    "nmc.train(train_points)\n",
    "###"
   ]
  },
  {
   "cell_type": "markdown",
   "metadata": {},
   "source": [
    "* Predict the test data using the nearest mean classifier and print all test examples for which all three classifiers (decision tree, nearest neighbor and nearest mean) agree."
   ]
  },
  {
   "cell_type": "code",
   "execution_count": 9,
   "metadata": {
    "collapsed": false
   },
   "outputs": [
    {
     "name": "stdout",
     "output_type": "stream",
     "text": [
      "[(('no', 50, 'good'), 'less'), (('no', 23, 'good'), 'less'), (('yes', 45, 'poor'), 'more'), (('no', 60, 'good'), 'less'), (('no', 15, 'poor'), 'more'), (('no', 18, 'good'), 'less')]\n"
     ]
    }
   ],
   "source": [
    "### Replace by your own code\n",
    "\n",
    "# list for holding agreed data points and labels\n",
    "agreed_list = []\n",
    "\n",
    "\n",
    "for e in test_points:\n",
    "    nmc_result = nmc.predict(e)\n",
    "    decision_tree_result = funck(e)\n",
    "    nearest_neighbor_result = retrieve_nearest_neighbor(e)\n",
    "    \n",
    "    if (nmc_result == decision_tree_result) and (nmc_result == nearest_neighbor_result[1]) and (decision_tree_result == nearest_neighbor_result[1]):\n",
    "        agreed_list.append((e, nmc_result))\n",
    "        \n",
    "print(agreed_list)\n",
    "    \n",
    "    \n",
    "    \n",
    "###"
   ]
  }
 ],
 "metadata": {
  "kernelspec": {
   "display_name": "Python 3",
   "language": "python",
   "name": "python3"
  },
  "language_info": {
   "codemirror_mode": {
    "name": "ipython",
    "version": 3
   },
   "file_extension": ".py",
   "mimetype": "text/x-python",
   "name": "python",
   "nbconvert_exporter": "python",
   "pygments_lexer": "ipython3",
   "version": "3.5.1"
  },
  "widgets": {
   "state": {},
   "version": "1.1.2"
  }
 },
 "nbformat": 4,
 "nbformat_minor": 0
}
