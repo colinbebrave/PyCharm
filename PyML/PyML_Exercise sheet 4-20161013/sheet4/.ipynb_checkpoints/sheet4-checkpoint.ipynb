{
 "cells": [
  {
   "cell_type": "markdown",
   "metadata": {},
   "source": [
    "# Exercise Sheet 4: Sampling, Simulation"
   ]
  },
  {
   "cell_type": "markdown",
   "metadata": {},
   "source": [
    "In this exercise sheet, we will simulate a Markov chain. In the first part, we will consider a pure Python based implementation where a single particle jumps from one position to another of the the lattice, where all transitions to neighboring states have the same probability. Then, we will add probability weightings for the transitions. Finally, the implementation will be parallelized to run many chains in parallel."
   ]
  },
  {
   "cell_type": "code",
   "execution_count": null,
   "metadata": {
    "collapsed": true
   },
   "outputs": [],
   "source": [
    "%matplotlib inline"
   ]
  },
  {
   "cell_type": "markdown",
   "metadata": {
    "collapsed": true
   },
   "source": [
    "## Exercise 1: Random moves in a lattice (20 P)\n",
    "\n",
    "In this exercise, we will simulate the propagation of particles in a graph composed of 8 states (denoted by letters A-H) and stored in the variable `S` defined in the cell below. The lattice is the following:\n",
    "\n",
    "![](lattice.png)\n",
    "\n",
    "The particle starts in state `A` and then jumps randomly from its current state to one of its neighbors, all with same probability. Note that it cannot stay at the current position. The dictionary also `T` defined in the cell below encode such transition behavior."
   ]
  },
  {
   "cell_type": "code",
   "execution_count": 3,
   "metadata": {
    "collapsed": true
   },
   "outputs": [],
   "source": [
    "# List of states\n",
    "S = 'ABCDEFGH'\n",
    "\n",
    "# Set of transitions\n",
    "T = {'A':'BE','B':'AFC','C':'BGD','D':'CH','E':'AF','F':'EBG','G':'FCH','H':'GD'}"
   ]
  },
  {
   "cell_type": "markdown",
   "metadata": {},
   "source": [
    "Using pure Python, simulate the experiment below and run it for 1999 iterations. Print the sequence of first 400 states visited by the particle.  To obtain the same results as in `pdf` solution file, you should initialize the seed of the module `random` to value `123` using the function `random.seed` before starting the simulation."
   ]
  },
  {
   "cell_type": "code",
   "execution_count": 18,
   "metadata": {
    "collapsed": false
   },
   "outputs": [
    {
     "name": "stdout",
     "output_type": "stream",
     "text": [
      "ABFEFBABFGHDHGFEFGCDCBAEAEABFGCBABCBABFBCGCGFBFGCBCDHGCDHDHDCDCDCGHDCGCDHGHDHDCBCBCGFBAEAEFGHGHDCBCGCGFEAEABFBCGCDHGFGFGCDCBFEFEFEFBFEFBFEAEABFGFGFGFGCDHGHDHDCDHGHGHDHGHGCDCGCDHDHGFGCDCGHGHDCDHGCDCBFBFEABCBABFGFEFEFGHGHGCGHDCGHDHDCDCDCDHDCDCGCGHDHDCGCBAEAEFGCBCGCBFEFGHDCGFGCGFBCDHGHDHDHGHDHDCBABFGCDCGHGCDCGCBCBFGHDCGHDCDCGCBFBFEAEABAEABFBFEFGFEFGHDCDCDHDHGFGCDHDCGFEABABABFEAEFGFEAEFEFEFGHDCDCDHGCB\n"
     ]
    }
   ],
   "source": [
    "### Replace by your own code\n",
    "import random\n",
    "random.seed(123)\n",
    "tmp = 'A'\n",
    "astr = 'A'\n",
    "\n",
    "for i in range(1999):\n",
    "    tmp = random.choice(T[tmp])\n",
    "    astr += tmp\n",
    "print(astr[:400])\n",
    "###"
   ]
  },
  {
   "cell_type": "markdown",
   "metadata": {},
   "source": [
    "Using `matplotlib`, produce a bar plot (`matplotlib.pyplot.bar`) showing the fraction of the time the particle is found in a given state, averaged over the whole simulation."
   ]
  },
  {
   "cell_type": "code",
   "execution_count": 33,
   "metadata": {
    "collapsed": false
   },
   "outputs": [
    {
     "name": "stdout",
     "output_type": "stream",
     "text": [
      "2000\n",
      "[198, 297, 304, 209, 203, 300, 291, 198]\n"
     ]
    }
   ],
   "source": [
    "### Replace by your own code\n",
    "import matplotlib.pyplot as plt\n",
    "%matplotlib inline\n",
    "alist = []\n",
    "for i in 'ABCDEFGH':\n",
    "    alist.append(astr.count(i))\n",
    "print(alist)\n",
    "\n",
    "###"
   ]
  },
  {
   "cell_type": "code",
   "execution_count": 36,
   "metadata": {
    "collapsed": false
   },
   "outputs": [
    {
     "data": {
      "text/plain": [
       "2000"
      ]
     },
     "execution_count": 36,
     "metadata": {},
     "output_type": "execute_result"
    }
   ],
   "source": [
    "sum(alist)"
   ]
  },
  {
   "cell_type": "code",
   "execution_count": 46,
   "metadata": {
    "collapsed": false
   },
   "outputs": [
    {
     "data": {
      "text/plain": [
       "<Container object of 8 artists>"
      ]
     },
     "execution_count": 46,
     "metadata": {},
     "output_type": "execute_result"
    },
    {
     "data": {
      "image/png": "[encoded data removed]",
      "text/plain": [
       "<matplotlib.figure.Figure at 0x10878b550>"
      ]
     },
     "metadata": {},
     "output_type": "display_data"
    }
   ],
   "source": [
    "x = range(len(alist))\n",
    "width = 1/1.5\n",
    "plt.bar(x, alist, width, color=\"purple\")"
   ]
  },
  {
   "cell_type": "markdown",
   "metadata": {
    "collapsed": true
   },
   "source": [
    "## Exercise 2: Adding a special state (20 P)\n",
    "\n",
    "Suppose now that the rule is modified such that everytime the particle is in state `F`, it always moves to `E` in the next step.\n",
    "\n",
    "* Modify the code to handle this special case, and create a bar plot for the new states distribution."
   ]
  },
  {
   "cell_type": "code",
   "execution_count": 39,
   "metadata": {
    "collapsed": false
   },
   "outputs": [
    {
     "name": "stdout",
     "output_type": "stream",
     "text": [
      "ABFEFBABFGHDHGFEFGCDCBAEAEABFGCBABCBABFBCGCGFBFGCBCDHGCDHDHDCDCDCGHDCGCDHGHDHDCBCBCGFBAEAEFGHGHDCBCGCGFEAEABFBCGCDHGFGFGCDCBFEFEFEFBFEFBFEAEABFGFGFGFGCDHGHDHDCDHGHGHDHGHGCDCGCDHDHGFGCDCGHGHDCDHGCDCBFBFEABCBABFGFEFEFGHGHGCGHDCGHDHDCDCDCDHDCDCGCGHDHDCGCBAEAEFGCBCGCBFEFGHDCGFGCGFBCDHGHDHDHGHDHDCBABFGCDCGHGCDCGCBCBFGHDCGHDCDCGCBFBFEAEABAEABFBFEFGFEFGHDCDCDHDHGFGCDHDCGFEABABABFEAEFGFEAEFEFEFGHDCDCDHGCB\n"
     ]
    }
   ],
   "source": [
    "### Replace by your own code\n",
    "for i in range(1999):\n",
    "    if tmp == 'F':\n",
    "        tmp = 'E'\n",
    "    else:\n",
    "        tmp = random.choice(T[tmp])\n",
    "    astr += tmp\n",
    "print(astr[:400])\n",
    "###"
   ]
  },
  {
   "cell_type": "code",
   "execution_count": 40,
   "metadata": {
    "collapsed": false
   },
   "outputs": [
    {
     "name": "stdout",
     "output_type": "stream",
     "text": [
      "[954, 791, 593, 363, 1397, 1132, 448, 320]\n"
     ]
    }
   ],
   "source": [
    "blist = []\n",
    "for i in 'ABCDEFGH':\n",
    "    blist.append(astr.count(i))\n",
    "print(blist)"
   ]
  },
  {
   "cell_type": "code",
   "execution_count": 41,
   "metadata": {
    "collapsed": false
   },
   "outputs": [
    {
     "data": {
      "text/plain": [
       "<Container object of 8 artists>"
      ]
     },
     "execution_count": 41,
     "metadata": {},
     "output_type": "execute_result"
    },
    {
     "data": {
      "image/png": "[encoded data removed]",
      "text/plain": [
       "<matplotlib.figure.Figure at 0x1081a8780>"
      ]
     },
     "metadata": {},
     "output_type": "display_data"
    }
   ],
   "source": [
    "x = range(len(blist))\n",
    "width = 1/1.5\n",
    "plt.bar(x, blist, width, color=\"blue\")"
   ]
  },
  {
   "cell_type": "markdown",
   "metadata": {},
   "source": [
    "## Exercise 3: Exact solution to the previous exercise (20 P)\n",
    "\n",
    "For simple Markov chains, a number of statistics can be obtained analytically from the structure of the transition model, in particular, by analysis of the transition matrix.\n",
    "\n",
    "* Compute the transition matrices associated to the models of exercise 1 and 2 (make sure that each row in these matrices sums to 1).\n",
    "* Give the transition matrices as argument to the function `utils.getstationary(P)` and print their result.\n",
    "\n",
    "This last function computes in closed form the stationary distribution associated to a given transition matrix `P` (i.e. the one we would get if running the simulation with such transition matrix for infinitely many time steps and looking at state frequencies)."
   ]
  },
  {
   "cell_type": "code",
   "execution_count": 58,
   "metadata": {
    "collapsed": false
   },
   "outputs": [
    {
     "name": "stdout",
     "output_type": "stream",
     "text": [
      "[0, 0, 0, 0, 0, 0, 0, 0, 0, 0, 0, 0, 0, 0, 0, 0, 0, 0, 0, 0]\n"
     ]
    }
   ],
   "source": [
    "### Replace by your own code\n",
    "import numpy as np\n",
    "clist = []\n",
    "for i in S:\n",
    "\n",
    "print(clist)\n",
    "#carray = np.array(clist).reshape([8,8])\n",
    "#print(carray)\n",
    "###"
   ]
  },
  {
   "cell_type": "code",
   "execution_count": 47,
   "metadata": {
    "collapsed": true
   },
   "outputs": [],
   "source": [
    "tt = np.array([2,3])"
   ]
  },
  {
   "cell_type": "markdown",
   "metadata": {},
   "source": [
    "## Exercise 4: Adding non-uniform transition probabilities (20 P)\n",
    "\n",
    "We consider the original lattice defined by the variable `T`. We set transition probabilities for each state to be such that: (1) the probability of moving left is always twice the probability of moving right. (2) The probability of moving vertically is the same as the probability of moving horizontally.\n",
    "\n",
    "* Build the transition matrix `P` implementing the described behavior, and compute its stationary distribution using the function `utils.getstationary(P)`.\n",
    "\n",
    "(Hints: You can notice that for each state, the transitions towards other states are always listed from left to right in the dictionary `T`. Also note that characters A-H can be mapped to integer values using the Python function ord(), thus, giving a direct relation between state names and indices of the transition matrix.)"
   ]
  },
  {
   "cell_type": "code",
   "execution_count": null,
   "metadata": {
    "collapsed": false
   },
   "outputs": [],
   "source": [
    "### Replace by your own code\n",
    "import solutions\n",
    "solutions.exercise4()\n",
    "###"
   ]
  },
  {
   "cell_type": "markdown",
   "metadata": {},
   "source": [
    "## Exercise 5: Simulation for multiple particles (20 P)\n",
    "\n",
    "We let 1000 particles evolve simultaneously in the system described in Exercise 4. The initial state of these particles is pseudo-random and given by the function `utils.getinitialstate()`.\n",
    "\n",
    "* Using the function `utils.mcstep()` that was introduced during the lecture, simulate this system for 500 time steps.\n",
    "* Estimate the stationary distribution by looking at the distribution of these particles in state space after 500 time steps.\n",
    "\n",
    "For reproducibility, give seed values to the function utils.mcstep corresponding to the current time step of the simulation (i.e. from 0 to 499)."
   ]
  },
  {
   "cell_type": "code",
   "execution_count": null,
   "metadata": {
    "collapsed": false
   },
   "outputs": [],
   "source": [
    "### Replace by your own code\n",
    "import solutions\n",
    "solutions.exercise5()\n",
    "###"
   ]
  }
 ],
 "metadata": {
  "kernelspec": {
   "display_name": "Python 3",
   "language": "python",
   "name": "python3"
  },
  "language_info": {
   "codemirror_mode": {
    "name": "ipython",
    "version": 3
   },
   "file_extension": ".py",
   "mimetype": "text/x-python",
   "name": "python",
   "nbconvert_exporter": "python",
   "pygments_lexer": "ipython3",
   "version": "3.5.1"
  }
 },
 "nbformat": 4,
 "nbformat_minor": 0
}
